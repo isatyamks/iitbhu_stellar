{
 "cells": [
  {
   "cell_type": "code",
   "execution_count": 3,
   "id": "0d584d20-bea6-4abc-8e6a-5a628f0e63e0",
   "metadata": {},
   "outputs": [],
   "source": [
    "import pandas as pd\n",
    "import pickle\n"
   ]
  },
  {
   "cell_type": "code",
   "execution_count": 4,
   "id": "40ccec0b-7cb8-4793-9b55-b8561979ba2b",
   "metadata": {},
   "outputs": [],
   "source": [
    "\n",
    "def load_model(pkl_file):\n",
    "    with open(pkl_file, 'rb') as file:\n",
    "        model = pickle.load(file)\n",
    "    print(\"Model loaded successfully.\")\n",
    "    return model\n",
    "\n",
    "def load_test_data(csv_file):\n",
    "    data = pd.read_csv(csv_file)\n",
    "    print(\"Test data loaded successfully.\")\n",
    "    return data"
   ]
  },
  {
   "cell_type": "code",
   "execution_count": 5,
   "id": "9254bc61-6e78-4bad-893d-522e864dcfc7",
   "metadata": {},
   "outputs": [],
   "source": [
    "\n",
    "def predict_p_hability(model, test_data, target_column=None):\n",
    "    if target_column and target_column in test_data.columns:\n",
    "        X_test = test_data.drop(columns=[target_column])\n",
    "    else:\n",
    "        X_test = test_data\n",
    "    predictions = model.predict(X_test)\n",
    "    print(\"Predictions generated successfully.\")\n",
    "    return predictions\n",
    "\n",
    "def save_predictions(predictions, output_file):\n",
    "    pd.DataFrame(predictions, columns=[\"p_hability\"]).to_csv(output_file, index=False)\n",
    "    print(f\"Predictions saved to {output_file}.\")\n",
    "\n"
   ]
  },
  {
   "cell_type": "code",
   "execution_count": 7,
   "id": "f04022f8-196f-488a-ab06-d1ac06d7dbc3",
   "metadata": {},
   "outputs": [
    {
     "name": "stdout",
     "output_type": "stream",
     "text": [
      "Model loaded successfully.\n",
      "Test data loaded successfully.\n",
      "An error occurred: 'numpy.ndarray' object has no attribute 'predict'\n"
     ]
    }
   ],
   "source": [
    "def main():\n",
    "    pkl_file = \"model.pkl\"\n",
    "    test_data_file = \"../data/exoplanet_dataset.csv\"\n",
    "    output_file = \"predictions.csv\"\n",
    "    target_column = None\n",
    "\n",
    "    try:\n",
    "        model = load_model(pkl_file)\n",
    "        test_data = load_test_data(test_data_file)\n",
    "        predictions = predict_p_hability(model, test_data, target_column)\n",
    "        save_predictions(predictions, output_file)\n",
    "    except Exception as e:\n",
    "        print(f\"An error occurred: {e}\")\n",
    "\n",
    "if __name__ == \"__main__\":\n",
    "    main()\n"
   ]
  },
  {
   "cell_type": "code",
   "execution_count": null,
   "id": "8ea70c62-7833-4b14-8377-e198ccf815ac",
   "metadata": {},
   "outputs": [],
   "source": []
  }
 ],
 "metadata": {
  "kernelspec": {
   "display_name": "Python 3 (ipykernel)",
   "language": "python",
   "name": "python3"
  },
  "language_info": {
   "codemirror_mode": {
    "name": "ipython",
    "version": 3
   },
   "file_extension": ".py",
   "mimetype": "text/x-python",
   "name": "python",
   "nbconvert_exporter": "python",
   "pygments_lexer": "ipython3",
   "version": "3.12.4"
  }
 },
 "nbformat": 4,
 "nbformat_minor": 5
}
