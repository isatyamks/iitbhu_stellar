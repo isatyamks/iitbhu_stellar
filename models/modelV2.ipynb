{
 "cells": [
  {
   "cell_type": "code",
   "execution_count": 12,
   "id": "aa428aef-e205-44db-a1f2-a1b415036c5f",
   "metadata": {},
   "outputs": [],
   "source": [
    "import pandas as pd\n",
    "import numpy as np\n",
    "from sklearn.preprocessing import LabelEncoder"
   ]
  },
  {
   "cell_type": "code",
   "execution_count": 13,
   "id": "0292f34b-ee2e-4fe5-b747-8f3fb339595e",
   "metadata": {},
   "outputs": [],
   "source": [
    "data=pd.read_csv(\"../data/exoplanet_dataset.csv\")"
   ]
  },
  {
   "cell_type": "code",
   "execution_count": 14,
   "id": "b3ceee0c-8ea3-4f23-9640-07e6fb59149c",
   "metadata": {},
   "outputs": [
    {
     "data": {
      "text/plain": [
       "(5599, 57)"
      ]
     },
     "execution_count": 14,
     "metadata": {},
     "output_type": "execute_result"
    }
   ],
   "source": [
    "data.shape"
   ]
  },
  {
   "cell_type": "code",
   "execution_count": 15,
   "id": "504a599b-0b73-4fc5-b650-dfe6575aabc9",
   "metadata": {},
   "outputs": [
    {
     "name": "stdout",
     "output_type": "stream",
     "text": [
      "<class 'pandas.core.frame.DataFrame'>\n",
      "RangeIndex: 5599 entries, 0 to 5598\n",
      "Data columns (total 57 columns):\n",
      " #   Column                Non-Null Count  Dtype  \n",
      "---  ------                --------------  -----  \n",
      " 0   P_NAME                5599 non-null   object \n",
      " 1   P_DETECTION           5599 non-null   object \n",
      " 2   P_DISCOVERY_FACILITY  5599 non-null   object \n",
      " 3   P_YEAR                5599 non-null   int64  \n",
      " 4   P_UPDATE              5599 non-null   object \n",
      " 5   P_MASS                5592 non-null   float64\n",
      " 6   P_MASS_ORIGIN         5599 non-null   object \n",
      " 7   P_RADIUS              5592 non-null   float64\n",
      " 8   P_PERIOD              5350 non-null   float64\n",
      " 9   P_SEMI_MAJOR_AXIS     5595 non-null   float64\n",
      " 10  P_ECCENTRICITY        4822 non-null   float64\n",
      " 11  P_INCLINATION         4288 non-null   float64\n",
      " 12  P_OMEGA               1659 non-null   float64\n",
      " 13  S_NAME                5599 non-null   object \n",
      " 14  S_NAME_HD             971 non-null    object \n",
      " 15  S_NAME_HIP            1020 non-null   object \n",
      " 16  S_TYPE                2021 non-null   object \n",
      " 17  S_RA                  5599 non-null   float64\n",
      " 18  S_DEC                 5599 non-null   float64\n",
      " 19  S_RA_STR              5599 non-null   object \n",
      " 20  S_DEC_STR             5599 non-null   object \n",
      " 21  S_MAG                 5380 non-null   float64\n",
      " 22  S_DISTANCE            5578 non-null   float64\n",
      " 23  S_TEMPERATURE         5380 non-null   float64\n",
      " 24  S_MASS                5595 non-null   float64\n",
      " 25  S_RADIUS              5367 non-null   float64\n",
      " 26  S_METALLICITY         5166 non-null   float64\n",
      " 27  S_AGE                 4392 non-null   float64\n",
      " 28  S_LOG_LUM             5364 non-null   float64\n",
      " 29  S_LOG_G               5353 non-null   float64\n",
      " 30  P_ESCAPE              5592 non-null   float64\n",
      " 31  P_POTENTIAL           5592 non-null   float64\n",
      " 32  P_GRAVITY             5592 non-null   float64\n",
      " 33  P_DENSITY             5592 non-null   float64\n",
      " 34  P_HILL_SPHERE         5587 non-null   float64\n",
      " 35  P_DISTANCE            5595 non-null   float64\n",
      " 36  P_PERIASTRON          5595 non-null   float64\n",
      " 37  P_APASTRON            5595 non-null   float64\n",
      " 38  P_DISTANCE_EFF        5595 non-null   float64\n",
      " 39  P_FLUX                5365 non-null   float64\n",
      " 40  P_TEMP_EQUIL          5365 non-null   float64\n",
      " 41  P_TEMP_SURF           2441 non-null   float64\n",
      " 42  P_TYPE                5592 non-null   object \n",
      " 43  S_TYPE_TEMP           5405 non-null   object \n",
      " 44  S_RA_TXT              5599 non-null   object \n",
      " 45  S_DEC_TXT             5599 non-null   object \n",
      " 46  S_LUMINOSITY          5366 non-null   float64\n",
      " 47  S_SNOW_LINE           5366 non-null   float64\n",
      " 48  S_ABIO_ZONE           5376 non-null   float64\n",
      " 49  S_TIDAL_LOCK          5595 non-null   float64\n",
      " 50  P_HABZONE_OPT         5599 non-null   int64  \n",
      " 51  P_HABZONE_CON         5599 non-null   int64  \n",
      " 52  P_TYPE_TEMP           5365 non-null   object \n",
      " 53  P_HABITABLE           5599 non-null   int64  \n",
      " 54  S_CONSTELLATION       5599 non-null   object \n",
      " 55  S_CONSTELLATION_ABR   5599 non-null   object \n",
      " 56  S_CONSTELLATION_ENG   5599 non-null   object \n",
      "dtypes: float64(34), int64(4), object(19)\n",
      "memory usage: 2.4+ MB\n"
     ]
    }
   ],
   "source": [
    "data.info()"
   ]
  },
  {
   "cell_type": "code",
   "execution_count": 16,
   "id": "c6fec11b-2a33-4aaf-a97b-48d1a4b425b1",
   "metadata": {},
   "outputs": [],
   "source": [
    "dataframe = pd.DataFrame(data, columns=['P_HABITABLE'])"
   ]
  },
  {
   "cell_type": "code",
   "execution_count": 17,
   "id": "3739ea1e-598b-48e4-a9ba-126c3ae07168",
   "metadata": {},
   "outputs": [],
   "source": [
    "df = pd.DataFrame(data)\n",
    "label_encoder = LabelEncoder()\n",
    "for col in df.select_dtypes(include=['object']).columns:\n",
    "    df[col] = label_encoder.fit_transform(df[col])\n"
   ]
  },
  {
   "cell_type": "code",
   "execution_count": 22,
   "id": "0c20c776-a0e9-48d8-8ea9-ad84fec417a1",
   "metadata": {},
   "outputs": [],
   "source": [
    "correlations = df.corr()"
   ]
  },
  {
   "cell_type": "code",
   "execution_count": 23,
   "id": "aa03d369-3ea2-4779-8832-aa655f321c32",
   "metadata": {},
   "outputs": [
    {
     "name": "stdout",
     "output_type": "stream",
     "text": [
      "P_NAME                 -0.014475\n",
      "P_DETECTION             0.006270\n",
      "P_DISCOVERY_FACILITY   -0.004896\n",
      "P_YEAR                  0.021590\n",
      "P_UPDATE               -0.016426\n",
      "P_MASS                 -0.019812\n",
      "P_MASS_ORIGIN           0.058900\n",
      "P_RADIUS               -0.076601\n",
      "P_PERIOD               -0.001596\n",
      "P_SEMI_MAJOR_AXIS      -0.004957\n",
      "P_ECCENTRICITY          0.032700\n",
      "P_INCLINATION           0.025374\n",
      "P_OMEGA                -0.027804\n",
      "S_NAME                 -0.014349\n",
      "S_NAME_HD               0.033539\n",
      "S_NAME_HIP             -0.026255\n",
      "S_TYPE                  0.019508\n",
      "S_RA                   -0.035595\n",
      "S_DEC                  -0.035531\n",
      "S_RA_STR               -0.036231\n",
      "S_DEC_STR               0.029431\n",
      "S_MAG                   0.023174\n",
      "S_DISTANCE             -0.050256\n",
      "S_TEMPERATURE          -0.096086\n",
      "S_MASS                 -0.121158\n",
      "S_RADIUS               -0.028069\n",
      "S_METALLICITY          -0.065827\n",
      "S_AGE                  -0.017437\n",
      "S_LOG_LUM              -0.205758\n",
      "S_LOG_G                 0.103055\n",
      "P_ESCAPE               -0.047300\n",
      "P_POTENTIAL            -0.025408\n",
      "P_GRAVITY              -0.017644\n",
      "P_DENSITY              -0.001213\n",
      "P_HILL_SPHERE          -0.004848\n",
      "P_DISTANCE             -0.005010\n",
      "P_PERIASTRON           -0.004754\n",
      "P_APASTRON             -0.005149\n",
      "P_DISTANCE_EFF         -0.004973\n",
      "P_FLUX                 -0.005296\n",
      "P_TEMP_EQUIL           -0.125275\n",
      "P_TEMP_SURF            -0.235727\n",
      "P_TYPE                  0.099661\n",
      "S_TYPE_TEMP             0.086957\n",
      "S_RA_TXT               -0.036231\n",
      "S_DEC_TXT               0.029431\n",
      "S_LUMINOSITY           -0.007789\n",
      "S_SNOW_LINE            -0.047213\n",
      "S_ABIO_ZONE            -0.002115\n",
      "S_TIDAL_LOCK           -0.128897\n",
      "P_HABZONE_OPT           0.482775\n",
      "P_HABZONE_CON           0.323721\n",
      "P_TYPE_TEMP             0.191530\n",
      "P_HABITABLE             1.000000\n",
      "S_CONSTELLATION         0.002478\n",
      "S_CONSTELLATION_ABR     0.001404\n",
      "S_CONSTELLATION_ENG     0.021899\n",
      "Name: P_HABITABLE, dtype: float64\n"
     ]
    }
   ],
   "source": [
    "p_habitable_corr = correlations['P_HABITABLE']\n",
    "\n",
    "print(p_habitable_corr)\n"
   ]
  },
  {
   "cell_type": "code",
   "execution_count": null,
   "id": "3462276a-1b79-43e4-b765-57c429e0dbd7",
   "metadata": {},
   "outputs": [],
   "source": []
  }
 ],
 "metadata": {
  "kernelspec": {
   "display_name": "Python 3 (ipykernel)",
   "language": "python",
   "name": "python3"
  },
  "language_info": {
   "codemirror_mode": {
    "name": "ipython",
    "version": 3
   },
   "file_extension": ".py",
   "mimetype": "text/x-python",
   "name": "python",
   "nbconvert_exporter": "python",
   "pygments_lexer": "ipython3",
   "version": "3.12.4"
  }
 },
 "nbformat": 4,
 "nbformat_minor": 5
}
